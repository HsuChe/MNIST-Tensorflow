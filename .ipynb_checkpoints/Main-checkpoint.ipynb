{
 "cells": [
  {
   "cell_type": "code",
   "execution_count": 37,
   "metadata": {},
   "outputs": [],
   "source": [
    "import numpy as np\n",
    "import tensorflow as tf\n",
    "import tensorflow_datasets as tfds"
   ]
  },
  {
   "cell_type": "markdown",
   "metadata": {},
   "source": [
    "### MNIST Train"
   ]
  },
  {
   "cell_type": "code",
   "execution_count": 39,
   "metadata": {},
   "outputs": [
    {
     "name": "stdout",
     "output_type": "stream",
     "text": [
      "Epoch 1/5\n",
      "540/540 - 4s - loss: 0.3279 - accuracy: 0.9061 - val_loss: 0.1879 - val_accuracy: 0.9435\n",
      "Epoch 2/5\n",
      "540/540 - 2s - loss: 0.1290 - accuracy: 0.9620 - val_loss: 0.1059 - val_accuracy: 0.9700\n",
      "Epoch 3/5\n",
      "540/540 - 2s - loss: 0.0909 - accuracy: 0.9724 - val_loss: 0.0872 - val_accuracy: 0.9718\n",
      "Epoch 4/5\n",
      "540/540 - 2s - loss: 0.0690 - accuracy: 0.9791 - val_loss: 0.0710 - val_accuracy: 0.9780\n",
      "Epoch 5/5\n",
      "540/540 - 2s - loss: 0.0537 - accuracy: 0.9834 - val_loss: 0.0569 - val_accuracy: 0.9817\n"
     ]
    }
   ],
   "source": [
    "name = 'mnist'\n",
    "validation_per = 0.1\n",
    "optimizer = 'adam'\n",
    "loss = 'sparse_categorical_crossentropy'\n",
    "metrics = 'accuracy'\n",
    "hidden_layer_size = 100\n",
    "depth = 2\n",
    "layer_activation = 'relu'\n",
    "output_activation = 'softmax'\n",
    "BUFFER_SIZE = 10000\n",
    "BATCH_SIZE = 100\n",
    "NUM_EPOCHS = 5\n",
    "\n",
    "def scale(image,label):\n",
    "    # changes the image data type to float\n",
    "    image = tf.cast(image, tf.float32)\n",
    "    # input the range 0-255 that a pixel can be for the dataset\n",
    "    image /= 255.\n",
    "    return image, label\n",
    "\n",
    "def keras_sequence (hidden_layer_size ,depth,layer_activation,output_activation):\n",
    "    sequential = [tf.keras.layers.Flatten(input_shape=(28,28,1))]\n",
    "    for i in range(depth):\n",
    "        sequential.append(tf.keras.layers.Dense(hidden_layer_size, activation=layer_activation))\n",
    "    sequential.append(tf.keras.layers.Dense(10, activation=output_activation))\n",
    "    return sequential\n",
    "\n",
    "def MNIST_Train(\n",
    "    name, \n",
    "    validation_per, \n",
    "    BUFFER_SIZE, \n",
    "    BATCH_SIZE,\n",
    "    hidden_layer_size,\n",
    "    depth,\n",
    "    layer_activation,\n",
    "    output_activation):\n",
    "    # load the dataset and the info from tensorflow_dataset 'mnist'\n",
    "    mnist_dataset, mnist_info = tfds.load(name = name,with_info = True, as_supervised=True)\n",
    "    \n",
    "    # set the train dataset and the test dataset\n",
    "    mnist_train, mnist_test = mnist_dataset['train'], mnist_dataset['test']\n",
    "    \n",
    "    # set the number of data you want to take from training for validation dataset\n",
    "    num_validation_sample = mnist_info.splits['train'].num_examples*validation_per\n",
    "    # making sure that number is an int type\n",
    "    num_validation_sample = tf.cast(num_validation_sample,tf.int64)\n",
    "    \n",
    "    # set the number of data you want to take for tests whcih is just the length of the test dataset\n",
    "    num_test_sample = mnist_info.splits['test'].num_examples\n",
    "    # making sure the number is an int type\n",
    "    num_test_sample = tf.cast(num_test_sample,tf.int64)\n",
    "    \n",
    "    # scale the train dataset and the test data set with the scale function\n",
    "    scaled_train = mnist_train.map(scale)\n",
    "    test_data = mnist_test.map(scale)\n",
    "    \n",
    "    # now we need to shuffle the data to make sure the sequence of the data is random\n",
    "    # we use the method .shuffle with specific buffer size for the task\n",
    "    shuffled_train_dataset = scaled_train.shuffle(BUFFER_SIZE)\n",
    "    \n",
    "    # now we extract the validation dataset from train dataset and remove validation dataset from train dataset\n",
    "    validation_data = shuffled_train_dataset.take(num_validation_sample)\n",
    "    train_data = shuffled_train_dataset.skip(num_validation_sample)\n",
    "    \n",
    "    # now we batch up the data so it doesn't crash the computer if it is a big dataset\n",
    "    train_data = train_data.batch(BATCH_SIZE)\n",
    "    \n",
    "    # we set the amount of data we want to batch for validation dataset to be the same as the length of validation dataset.\n",
    "    validation_data = validation_data.batch(num_validation_sample)\n",
    "    \n",
    "    # we set the amount of data we want to batch for test dataset to be the same as the length of test dataset.\n",
    "    test_data = test_data.batch(num_test_sample)\n",
    "    \n",
    "    # we now iterate the next batch until all of the dataset is used.\n",
    "    validation_inputs, validation_targets = next(iter(validation_data))\n",
    "    \n",
    "    # we formate the keras_sequence that will be the input into the model\n",
    "    sequential = keras_sequence(hidden_layer_size,depth,layer_activation,output_activation)\n",
    "    # set the right sequential to the model\n",
    "    model = tf.keras.Sequential(sequential)\n",
    "    \n",
    "    # compile the model\n",
    "    model.compile(optimizer = optimizer, loss = loss, metrics = metrics)\n",
    "    \n",
    "    # fit the model according to the number of EPOCHS\n",
    "    model.fit(train_data, epochs = NUM_EPOCHS, validation_data = (validation_inputs,validation_targets), verbose = 2)\n",
    "\n",
    "MNIST_Train(\n",
    "    name, \n",
    "    validation_per, \n",
    "    BUFFER_SIZE, \n",
    "    BATCH_SIZE,\n",
    "    hidden_layer_size,\n",
    "    depth,\n",
    "    layer_activation,\n",
    "    output_activation)"
   ]
  },
  {
   "cell_type": "code",
   "execution_count": null,
   "metadata": {},
   "outputs": [],
   "source": []
  },
  {
   "cell_type": "code",
   "execution_count": null,
   "metadata": {},
   "outputs": [],
   "source": []
  }
 ],
 "metadata": {
  "kernelspec": {
   "display_name": "Python (py3-TF2.0)",
   "language": "python",
   "name": "py3-tf2.0"
  },
  "language_info": {
   "codemirror_mode": {
    "name": "ipython",
    "version": 3
   },
   "file_extension": ".py",
   "mimetype": "text/x-python",
   "name": "python",
   "nbconvert_exporter": "python",
   "pygments_lexer": "ipython3",
   "version": "3.8.5"
  }
 },
 "nbformat": 4,
 "nbformat_minor": 4
}
